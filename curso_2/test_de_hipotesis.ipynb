{
 "cells": [
  {
   "cell_type": "markdown",
   "id": "0",
   "metadata": {},
   "source": [
    "\n",
    "\n",
    "# Taller: Análisis de Hipótesis con Datos de la ENS 2016-2017\n",
    "\n",
    "\n",
    "\n",
    "## 1. Introducción\n",
    "\n",
    "\n",
    "\n",
    "En investigación cuantitativa, la docimacia de hipótesis (o prueba de hipótesis) permite evaluar si las diferencias observadas en los datos pueden atribuirse al azar o reflejan patrones reales en la población. Este taller tiene como objetivo introducir herramientas estadísticas para comprobar hipótesis en datos reales, utilizando Python como herramienta de análisis.\n",
    "\n",
    "\n",
    "\n",
    "A partir de la Encuesta Nacional de Salud (ENS) 2016-2017, trabajaremos con variables demográficas, biométricas y clínicas para:\n",
    "\n",
    "- Verificar supuestos de normalidad.\n",
    "\n",
    "- Comparar variables entre grupos (por ejemplo, hombres vs. mujeres).\n",
    "\n",
    "- Analizar diferencias en variables continuas y categóricas.\n",
    "\n",
    "\n",
    "\n",
    "Este análisis es clave para evaluar desigualdades en salud, diseñar políticas basadas en evidencia y generar conclusiones confiables a partir de datos poblacionales.\n",
    "\n",
    "\n",
    "\n",
    "## 2. Objetivos\n",
    "\n",
    "Al finalizar este taller, los y las estudiantes serán capaces de:\n",
    "\n",
    "\n",
    "\n",
    "* Evaluar la normalidad de variables cuantitativas\n",
    "\n",
    "- Verificar normalidad en variables como Edad, Peso, Talla, Glicemia y Colesterol.\n",
    "\n",
    "* Comparar variables continuas entre grupos\n",
    "\n",
    "- Aplicar pruebas t de Student para muestras independientes (hombres vs. mujeres).\n",
    "\n",
    "- Comparar variables como Peso, IMC, y Glicemia por sexo.\n",
    "\n",
    "* Comparar variables categóricas u ordinales\n",
    "\n",
    "- Evaluar diferencias en número de comorbilidades o nivel educacional entre grupos.\n",
    "\n",
    "- Utilizar pruebas como chi-cuadrado o pruebas no paramétricas.\n",
    "\n",
    "* Interpretar resultados\n",
    "\n",
    "- Comprender el significado de los valores p.\n",
    "\n",
    "- Formular y contrastar hipótesis nula y alternativa.\n",
    "\n",
    "- Traducir los resultados estadísticos en hallazgos interpretables en contexto de salud pública.\n",
    "\n",
    "\n",
    "\n",
    "## 3. Dataset\n",
    "\n",
    "\n",
    "\n",
    "La Encuesta Nacional de Salud (ENS) 2016-2017 es un estudio representativo de la población chilena que recopila datos sobre salud física y mental, factores de riesgo, estilo de vida y uso de servicios sanitarios. Esta información permite caracterizar el estado de salud y sus determinantes a nivel nacional.En este taller trabajaremos con un subconjunto de variables relevantes para el análisis estadístico de hipótesis. Los datos son de acceso público y están disponibles en este repositorio. A través de este conjunto de datos, aprenderemos a aplicar pruebas estadísticas clásicas sobre variables reales, extrayendo conclusiones aplicables a la investigación en salud pública. Los datos se encuentran [disponibles públicamente](https://data.mendeley.com/datasets/3myh3nzcy3/1).\n",
    "\n",
    "![img/ens.png]()\n"
   ]
  },
  {
   "cell_type": "markdown",
   "id": "1",
   "metadata": {},
   "source": [
    "### 3.1 Librerías necesarias\n",
    "Las siguientes librerias son necesarias para el análisis de datos y visualización. "
   ]
  },
  {
   "cell_type": "code",
   "execution_count": null,
   "id": "2",
   "metadata": {},
   "outputs": [],
   "source": [
    "%%capture\n",
    "# Instalar librerias para leer archivos SPSS\n",
    "!pip install pyreadstat"
   ]
  },
  {
   "cell_type": "code",
   "execution_count": null,
   "id": "3",
   "metadata": {},
   "outputs": [],
   "source": [
    "import pandas as pd\n",
    "from matplotlib import pyplot as plt\n",
    "import numpy as np"
   ]
  },
  {
   "cell_type": "markdown",
   "id": "4",
   "metadata": {},
   "source": [
    "### 3.2 Cargar Datos\n",
    "\n",
    "Tal como se realizo en el taller anterior, se descargara la base de datos utilizando `wget` y luego se cargara la base de datos en la variable `ens` utilizando la función de pandas `read_spss`.  "
   ]
  },
  {
   "cell_type": "code",
   "execution_count": null,
   "id": "5",
   "metadata": {},
   "outputs": [],
   "source": [
    "# Descargar ENS\n",
    "!wget https://github.com/iHealthInstitute/Talleres_Diplomado_iHealth/raw/refs/heads/main/data/ENS2016-2017.sav"
   ]
  },
  {
   "cell_type": "code",
   "execution_count": null,
   "id": "6",
   "metadata": {},
   "outputs": [],
   "source": [
    "ens = pd.read_spss('ENS2016-2017.sav')\n",
    "print(ens.head())\n",
    "print(ens.shape)"
   ]
  }
 ],
 "metadata": {
  "kernelspec": {
   "display_name": "diplomado",
   "language": "python",
   "name": "python3"
  },
  "language_info": {
   "codemirror_mode": {
    "name": "ipython",
    "version": 3
   },
   "file_extension": ".py",
   "mimetype": "text/x-python",
   "name": "python",
   "nbconvert_exporter": "python",
   "pygments_lexer": "ipython3",
   "version": "3.10.16"
  }
 },
 "nbformat": 4,
 "nbformat_minor": 5
}
