{
 "cells": [
  {
   "cell_type": "markdown",
   "id": "e9d0165c",
   "metadata": {},
   "source": [
    "# Taller: Introducción a Análisis de Componentes Principales (PCA) \n",
    "\n",
    "## 1. Introducción\n",
    "\n",
    "El Análisis de Componentes Principales (PCA) es una técnica estadística de reducción de dimensionalidad que permite identificar patrones en datos de alta dimensión, al transformar las variables originales en un nuevo conjunto de variables no correlacionadas llamadas componentes principales. Este taller tiene como objetivo introducir los fundamentos del PCA mediante un ejemplo práctico y simple, como preparación para el proyecto final del curso.\n",
    "\n",
    "## 2. Objetivos\n",
    "\n",
    "- Comprender el propósito del Análisis de Componentes Principales.\n",
    "- Aplicar PCA sobre un conjunto de datos multivariado utilizando Python.\n",
    "- Interpretar la varianza explicada por cada componente.\n",
    "- Visualizar los datos proyectados en el nuevo espacio reducido.\n",
    "- Entender cómo PCA puede mejorar modelos predictivos al reducir la multicolinealidad.\n",
    "\n",
    "\n",
    "## 3. Dataset \n",
    "\n",
    "Este conjunto de datos proviene de un estudio longitudinal sobre salud cardiovascular realizado en la localidad de Framingham, Massachusetts. El objetivo principal es construir un modelo capaz de predecir si una persona desarrollará enfermedad coronaria en un periodo de 10 años. \n",
    "\n",
    "Incluye información de más de 4.000 pacientes, con un total de 15 variables, que abarcan factores de riesgo de tipo demográfico, conductual y médico.\n",
    "\n",
    "### Categorías de Variables\n",
    "\n",
    "1. Demográficas\n",
    "\t* Sex: género del paciente (masculino o femenino).\n",
    "\t* Age: edad en años, considerada como variable continua.\n",
    "\n",
    "2. Conductuales\n",
    "\t* Current Smoker: indica si el paciente fuma actualmente.\n",
    "\t* Cigs Per Day: cantidad promedio de cigarrillos consumidos por día. Aunque es una variable discreta, se trata como continua.\n",
    "\n",
    "3. Antecedentes Médicos\n",
    "\t* BP Meds: si está tomando medicamentos para la presión arterial.\n",
    "\t* Prevalent Stroke: si ha sufrido un accidente cerebrovascular en el pasado.\n",
    "\t* Prevalent Hyp: si presenta hipertensión.\n",
    "\t* Diabetes: si ha sido diagnosticado con diabetes.\n",
    "\n",
    "4. Estado Médico Actual\n",
    "\t* Tot Chol: nivel total de colesterol.\n",
    "\t* Sys BP: presión arterial sistólica.\n",
    "\t* Dia BP: presión arterial diastólica.\n",
    "\t* BMI: índice de masa corporal.\n",
    "\t* Heart Rate: ritmo cardíaco.\n",
    "\t* Glucose: nivel de glucosa en sangre.\n",
    "\n",
    "5. Variable Objetivo\n",
    "    * TenYearCHD: indica si el paciente tiene riesgo de desarrollar enfermedad coronaria dentro de los próximos 10 años (1 = Sí, 0 = No).\n",
    "\n",
    "Este se encuentra disponible en Kaggle: [Framingham Heart Study Dataset](https://www.kaggle.com/datasets/dileep070/heart-disease-prediction-using-logistic-regression).\n",
    "\n",
    "![](img/heart.png)"
   ]
  }
 ],
 "metadata": {
  "kernelspec": {
   "display_name": "diplomado",
   "language": "python",
   "name": "python3"
  },
  "language_info": {
   "codemirror_mode": {
    "name": "ipython",
    "version": 3
   },
   "file_extension": ".py",
   "mimetype": "text/x-python",
   "name": "python",
   "nbconvert_exporter": "python",
   "pygments_lexer": "ipython3",
   "version": "3.10.16"
  }
 },
 "nbformat": 4,
 "nbformat_minor": 5
}
