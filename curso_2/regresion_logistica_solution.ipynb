{
 "cells": [
  {
   "cell_type": "markdown",
   "id": "8602c4f5",
   "metadata": {},
   "source": [
    "# Taller: Regresión Logística Aplicada a Datos de la ENS 2016-2017\n",
    "\n",
    "## 1. Introducción\n",
    "\n",
    "La regresión logística es una herramienta clave para analizar relaciones entre variables predictoras y un resultado binario o categórico. En salud pública, permite estudiar factores asociados a condiciones como la obesidad, el consumo riesgoso de alcohol o la diabetes.\n",
    "\n",
    "En este taller trabajaremos con datos de la Encuesta Nacional de Salud (ENS) 2016-2017 para:\n",
    "\n",
    "- Estimar la probabilidad de obesidad según hábitos de vida y condiciones clínicas.\n",
    "- Modelar el exceso de consumo de alcohol a partir de variables sociodemográficas.\n",
    "- Explorar relaciones causales mediante modelos logísticos ajustados.\n",
    "\n",
    "\n",
    "\n",
    "## 2. Objetivos del Taller\n",
    "\n",
    "Al finalizar el taller, los y las estudiantes serán capaces de:\n",
    "\n",
    "- Preparar variables binarias y categóricas para regresión logística.\n",
    "- Ajustar modelos de regresión logística para variables dicotómicas y ordinales.\n",
    "- Seleccionar variables relevantes utilizando estrategias como *backward elimination*.\n",
    "- Interpretar coeficientes como *odds ratios* y evaluar modelos con métricas como AUC-ROC.\n",
    "- Aplicar lógica causal en el diseño e interpretación de modelos.\n",
    "\n",
    "\n",
    "## 3. Dataset\n",
    "La **Encuesta Nacional de Salud (ENS) 2016-2017** es un estudio representativo de la población chilena que recopila información sobre salud, estilo de vida y uso de servicios sanitarios. En este taller utilizaremos un subconjunto de estas variables para aplicar modelos estadísticos sobre datos reales de salud pública. Los datos son de acceso público y están disponibles [aquí](https://data.mendeley.com/datasets/3myh3nzcy3/1).\n",
    "\n",
    "![](img/ens.png)"
   ]
  },
  {
   "cell_type": "markdown",
   "id": "494741dc",
   "metadata": {},
   "source": [
    "### 3.1 Librerías necesarias\n",
    "Las siguientes librerias son necesarias para el análisis de datos y visualización. "
   ]
  },
  {
   "cell_type": "code",
   "execution_count": 1,
   "id": "38e79992",
   "metadata": {},
   "outputs": [],
   "source": [
    "%%capture\n",
    "# Instalar librerias para leer archivos SPSS\n",
    "!pip install pyreadstat"
   ]
  },
  {
   "cell_type": "code",
   "execution_count": 2,
   "id": "e0a1dd27",
   "metadata": {},
   "outputs": [],
   "source": [
    "import pandas as pd\n",
    "from matplotlib import pyplot as plt\n",
    "import numpy as np"
   ]
  },
  {
   "cell_type": "markdown",
   "id": "05bd2dee",
   "metadata": {},
   "source": [
    "### 3.2 Cargar Datos\n",
    "\n",
    "Tal como se realizo en el taller anterior, se descargara la base de datos utilizando `wget` y luego se cargara la base de datos en la variable `ens` utilizando la función de pandas `read_spss`.  "
   ]
  },
  {
   "cell_type": "code",
   "execution_count": 3,
   "id": "745d5307",
   "metadata": {},
   "outputs": [
    {
     "name": "stdout",
     "output_type": "stream",
     "text": [
      "--2025-07-23 14:30:02--  https://github.com/iHealthInstitute/Talleres_Diplomado_iHealth/raw/refs/heads/main/data/ENS2016-2017.sav\n",
      "Resolviendo github.com (github.com)... 20.201.28.151\n",
      "Conectando con github.com (github.com)[20.201.28.151]:443... conectado.\n",
      "Petición HTTP enviada, esperando respuesta... 302 Found\n",
      "Localización: https://raw.githubusercontent.com/iHealthInstitute/Talleres_Diplomado_iHealth/refs/heads/main/data/ENS2016-2017.sav [siguiendo]\n",
      "--2025-07-23 14:30:03--  https://raw.githubusercontent.com/iHealthInstitute/Talleres_Diplomado_iHealth/refs/heads/main/data/ENS2016-2017.sav\n",
      "Resolviendo raw.githubusercontent.com (raw.githubusercontent.com)... 185.199.109.133, 185.199.110.133, 185.199.111.133, ...\n",
      "Conectando con raw.githubusercontent.com (raw.githubusercontent.com)[185.199.109.133]:443... conectado.\n",
      "Petición HTTP enviada, esperando respuesta... 200 OK\n",
      "Longitud: 34441286 (33M) [application/octet-stream]\n",
      "Grabando a: «ENS2016-2017.sav.5»\n",
      "\n",
      "ENS2016-2017.sav.5  100%[===================>]  32.85M  68.0MB/s    en 0.5s    \n",
      "\n",
      "2025-07-23 14:30:05 (68.0 MB/s) - «ENS2016-2017.sav.5» guardado [34441286/34441286]\n",
      "\n"
     ]
    }
   ],
   "source": [
    "# Descargar ENS\n",
    "!wget https://github.com/iHealthInstitute/Talleres_Diplomado_iHealth/raw/refs/heads/main/data/ENS2016-2017.sav"
   ]
  },
  {
   "cell_type": "code",
   "execution_count": 4,
   "id": "d314afed",
   "metadata": {},
   "outputs": [
    {
     "name": "stdout",
     "output_type": "stream",
     "text": [
      "   IdEncuesta  FechaInicioF1               Region    Comuna    Zona  \\\n",
      "0     20006.0   1.369894e+10  XIII. Metropolitana  Santiago  URBANA   \n",
      "1     20008.0   1.369964e+10  XIII. Metropolitana  Santiago  URBANA   \n",
      "2     20011.0   1.369955e+10  XIII. Metropolitana  Santiago  URBANA   \n",
      "3     20012.0   1.369903e+10  XIII. Metropolitana  Santiago  URBANA   \n",
      "4     20013.0   1.369902e+10  XIII. Metropolitana  Santiago  URBANA   \n",
      "\n",
      "   IdSegmento  IdPersona_1      Ident7  Edad Edad_Codificada  ...  \\\n",
      "0  13101101.0        241.0  1977-12-18  38.0         25 - 44  ...   \n",
      "1  13101101.0        197.0  1991-10-23  25.0         25 - 44  ...   \n",
      "2  13101102.0        321.0  1996-05-31  20.0           15-24  ...   \n",
      "3  13101102.0        245.0  1931-04-14  85.0             65+  ...   \n",
      "4  13101102.0        242.0  1975-06-24  41.0         25 - 44  ...   \n",
      "\n",
      "  fg_CKDschwartz_diminuido_60 fg_CKDschwartz_diminuido_30 Fechaini_F1  \\\n",
      "0                         NaN                         NaN  2016-11-19   \n",
      "1                          No                          No  2016-11-27   \n",
      "2                          No                          No  2016-11-26   \n",
      "3                          Sí                          Sí  2016-11-20   \n",
      "4                         NaN                         NaN  2016-11-20   \n",
      "\n",
      "   Fechaini_F2 Sospecha_Depresion Cantidad_sintomas_depresivos  Arsenico_µgL  \\\n",
      "0          NaN                 No                          3.0           NaN   \n",
      "1   2016-12-13                NaN                          NaN          5.00   \n",
      "2   2016-12-07                 Sí                          5.0         14.79   \n",
      "3   2016-11-23                 No                          0.0          5.00   \n",
      "4          NaN                 No                          0.0           NaN   \n",
      "\n",
      "  Cadmio_µgL Mercurio_µgL Plomo_µgdL  \n",
      "0        NaN          NaN        NaN  \n",
      "1        1.0          2.0        1.0  \n",
      "2        1.0          2.0        1.0  \n",
      "3        1.0          2.0        1.0  \n",
      "4        NaN          NaN        NaN  \n",
      "\n",
      "[5 rows x 1165 columns]\n",
      "(6233, 1165)\n"
     ]
    }
   ],
   "source": [
    "ens = pd.read_spss('ENS2016-2017.sav')\n",
    "print(ens.head())\n",
    "print(ens.shape)"
   ]
  },
  {
   "cell_type": "markdown",
   "id": "7a7e91f9",
   "metadata": {},
   "source": [
    "#### **Ejercicio**\n",
    "\n",
    "\n",
    "Chile es un país con una alta prevalencia de obesidad y enfermedades crónicas asociadas. Se quiere investigar la relación entre el Sexo, actividad fisica, consumo de alcohol, diabetes, hipertensión y region de residencia con la obesidad. Para esto, se utilizará una regresión logistica para modelar la probabilidad de obesidad en función de estas variables.\n",
    "\n",
    "En este ejercicio deberas\n",
    "1. Filtrar la muestra para incluir solo personas normopeso u obesas. \n",
    "    - Normopeso: IMC entre 18.5 y 24.9\n",
    "    - Obesidad: IMC mayor o igual a 30\n",
    "    - Eliminar valores NaN\n",
    "    \n",
    "    Realize un histograma del IMC para visualizar la distribución de los datos. No deben existir valores en el rango de IMC entre 25 y 29.9, ya que estos corresponden a personas con sobrepeso, que no se incluirán en el análisis.\n",
    "2. Crear una variable binaria `obesidad_binaria`: 1 = obeso, 0 = normopeso.\n",
    "  Identifique la cantidad de personas obesas y normopeso en la muestra filtrada.\n",
    "3. Cree nuevas variables binarias a partir de las siguientes variables:\n",
    "    * `Sexo` (1: mujer, 0: hombre)\n",
    "    * Actividad fisica en tiempo libre (`A10`): \n",
    "      - 1: sí (realiza actividad física)\n",
    "      - 0: no (no realiza actividad física)\n",
    "    * A fumado 100 cigarrillos en toda su vida? (`ta2`)  (1: sí, 0: no)\n",
    "    * Diabetes (`di3`): \n",
    "      - 1: sí\n",
    "      - 0: no \n",
    "    * Hipertensión diagnosticada (`h2`):\n",
    "      - 1: sí\n",
    "      - 0: no\n",
    "    * Región (`Region`). Utilizar el diccionario `zona_dict` para crear una variable categórica con las siguientes categorías:\n",
    "      - 1: centro/norte\n",
    "      - 0: sur\n",
    "  \n",
    "4. Ajustar un modelo logístico y analizar los **odds ratios** y los valores p.\n",
    "5. Responde:\n",
    "    - ¿Qué variables son estadísticamente significativas?\n",
    "    - ¿Cómo se interpretan los odds ratios de cada variable?\n",
    "    - ¿Qué implicancias tienen estos resultados para la salud pública en Chile?\n",
    "6. Simula una nueva observación con las siguientes características:\n",
    "    - Sexo: mujer\n",
    "    - Actividad física: sí\n",
    "    - Fumador: no\n",
    "    - Diabetes: no\n",
    "    - Hipertensión: no\n",
    "    - Región: centro/norte\n",
    "\n",
    "   Calcula la probabilidad de obesidad para esta persona utilizando el modelo ajustado. ¿Qué implicancias tiene este resultado?\n",
    "7. Genera un plot de las probabilidades de obesidad en función de las variables significativas del modelo. Utiliza un gráfico de barras para visualizar la probabilidad de obesidad según cada variable significativa."
   ]
  },
  {
   "cell_type": "code",
   "execution_count": 110,
   "id": "ecaaa143",
   "metadata": {},
   "outputs": [],
   "source": [
    "zona_dict = {\n",
    "    'I. Tarapacá': 'Norte',\n",
    "    'II. Antofagasta': 'Norte',\n",
    "    'III. Atacama': 'Norte',\n",
    "    'XV. Arica y Parinacota': 'Norte',\n",
    "\n",
    "    'IV. Coquimbo': 'Centro',\n",
    "    'V. Valparaíso': 'Centro',\n",
    "    'VI. L. Bdo. OHiggins': 'Centro',\n",
    "    'VII. Maule': 'Centro',\n",
    "    'XIII. Metropolitana': 'Centro',\n",
    "\n",
    "    'VIII. Bíobío': 'Sur',\n",
    "    'IX. La Araucanía': 'Sur',\n",
    "    'X. Los Lagos': 'Sur',\n",
    "    'XI. Aysén': 'Sur',\n",
    "    'XII. Magallanes y Antártica': 'Sur',\n",
    "    'XIV. Los Ríos': 'Sur'\n",
    "}\n",
    "\n"
   ]
  },
  {
   "cell_type": "code",
   "execution_count": 111,
   "id": "7c93e890",
   "metadata": {},
   "outputs": [
    {
     "data": {
      "image/png": "[encoded data removed]",
      "text/plain": [
       "<Figure size 1000x600 with 1 Axes>"
      ]
     },
     "metadata": {},
     "output_type": "display_data"
    }
   ],
   "source": [
    "# <CODE> 1. Filtrar la muestra para incluir solo personas normopeso u obesas. </CODE>\n",
    "ens_filtrado = ens.copy()\n",
    "ens_filtrado = ens_filtrado[ens['IMC'].notna() & ((ens['IMC'] >= 18.5) & (ens['IMC'] <= 24.9) | (ens['IMC'] >= 30))]\n",
    "\n",
    "\n",
    "fig = plt.figure(figsize=(10, 6))\n",
    "ax = fig.add_subplot(111)\n",
    "ens_filtrado['IMC'].hist(bins=50, ax=ax)\n",
    "ax.set_title('Histograma del IMC')\n",
    "ax.set_xlabel('IMC')\n",
    "ax.set_ylabel('Frecuencia')\n",
    "plt.show()\n",
    "\n",
    "\n",
    "\n"
   ]
  },
  {
   "cell_type": "code",
   "execution_count": 112,
   "id": "05e1c81d",
   "metadata": {},
   "outputs": [
    {
     "name": "stdout",
     "output_type": "stream",
     "text": [
      "obesidad_binaria\n",
      "True     2054\n",
      "False    1256\n",
      "Name: count, dtype: int64\n"
     ]
    }
   ],
   "source": [
    "# <CODE> 2. Crear una variable binaria obesidad_binaria </CODE>\n",
    "ens_filtrado.loc[:, 'obesidad_binaria'] = ens_filtrado['IMC'] > 30\n",
    "print(ens_filtrado['obesidad_binaria'].value_counts())\n"
   ]
  },
  {
   "cell_type": "code",
   "execution_count": 113,
   "id": "85f7583f",
   "metadata": {},
   "outputs": [],
   "source": [
    "# <CODE> 3. Crear variables binarias </CODE>\n",
    "ens_filtrado.loc[:, 'sexo_binario'] = ens_filtrado['Sexo'].map(lambda x: 1 if x == 'MUJER' else 0)\n",
    "ens_filtrado.loc[:, 'actividad_fisica'] = ens_filtrado['a10'].map(lambda x: 1 if x == 'SÍ' else 0)\n",
    "ens_filtrado.loc[:, 'fumador_binario'] = ens_filtrado['ta2'].map({'NO': 0, 'SÍ': 1, 'NO RECUERDA': np.nan, 'NO ESTÁ SEGURO': np.nan})\n",
    "ens_filtrado.loc[:, 'diabetes_binaria'] = ens_filtrado['di3'].map({'NO': 0, 'SÍ': 1, 'NO RECUERDO': np.nan})\n",
    "ens_filtrado.loc[:, 'hipertension_binaria'] = ens_filtrado['h2'].map({'NO, NUNCA ME LO HAN DICHO': 0,\n",
    "                                                                'SÍ, MÁS DE UNA VEZ': 1,\n",
    "                                                                'SÍ, UNA SOLA VEZ ': 1,\n",
    "                                                                'NO RECUERDO, NO ESTOY SEGURO(A)': np.nan})\n",
    "ens_filtrado.loc[:, 'zona_binaria'] = ens_filtrado['Region'].map(zona_dict).map(lambda x: 1 if x in ['Norte', 'Centro'] else 0)\n",
    "\n",
    "ens_filtrado = ens_filtrado[['obesidad_binaria', 'sexo_binario', 'actividad_fisica', 'fumador_binario', 'diabetes_binaria', 'hipertension_binaria', 'zona_binaria']]\n",
    "ens_filtrado = ens_filtrado.dropna()"
   ]
  },
  {
   "cell_type": "code",
   "execution_count": 114,
   "id": "d19c2d38",
   "metadata": {},
   "outputs": [
    {
     "name": "stdout",
     "output_type": "stream",
     "text": [
      "Optimization terminated successfully.\n",
      "         Current function value: 0.622252\n",
      "         Iterations 5\n",
      "                           Logit Regression Results                           \n",
      "==============================================================================\n",
      "Dep. Variable:       obesidad_binaria   No. Observations:                 2816\n",
      "Model:                          Logit   Df Residuals:                     2809\n",
      "Method:                           MLE   Df Model:                            6\n",
      "Date:                Wed, 23 Jul 2025   Pseudo R-squ.:                 0.07291\n",
      "Time:                        19:04:33   Log-Likelihood:                -1752.3\n",
      "converged:                       True   LL-Null:                       -1890.1\n",
      "Covariance Type:            nonrobust   LLR p-value:                 1.377e-56\n",
      "========================================================================================\n",
      "                           coef    std err          z      P>|z|      [0.025      0.975]\n",
      "----------------------------------------------------------------------------------------\n",
      "const                    0.2333      0.101      2.320      0.020       0.036       0.430\n",
      "sexo_binario             0.2401      0.087      2.758      0.006       0.069       0.411\n",
      "actividad_fisica        -0.6378      0.110     -5.813      0.000      -0.853      -0.423\n",
      "fumador_binario          0.2542      0.083      3.048      0.002       0.091       0.418\n",
      "diabetes_binaria         0.7876      0.134      5.858      0.000       0.524       1.051\n",
      "hipertension_binaria     0.8869      0.103      8.629      0.000       0.685       1.088\n",
      "zona_binaria            -0.4445      0.084     -5.270      0.000      -0.610      -0.279\n",
      "========================================================================================\n",
      "\n",
      "--- Odds Ratios ---\n",
      "const                   1.262772\n",
      "sexo_binario            1.271375\n",
      "actividad_fisica        0.528429\n",
      "fumador_binario         1.289385\n",
      "diabetes_binaria        2.198036\n",
      "hipertension_binaria    2.427521\n",
      "zona_binaria            0.641149\n",
      "dtype: float64\n",
      "\n",
      "--- Valores p ---\n",
      "const                   2.036019e-02\n",
      "sexo_binario            5.811932e-03\n",
      "actividad_fisica        6.128666e-09\n",
      "fumador_binario         2.301125e-03\n",
      "diabetes_binaria        4.686677e-09\n",
      "hipertension_binaria    6.169118e-18\n",
      "zona_binaria            1.363848e-07\n",
      "dtype: float64\n"
     ]
    }
   ],
   "source": [
    "# <CODE> 4. Ajustar un modelo logístico \n",
    "\n",
    "# Variables predictoras y variable objetivo\n",
    "X = ens_filtrado[[\n",
    "    'sexo_binario',\n",
    "    'actividad_fisica',\n",
    "    'fumador_binario',\n",
    "    'diabetes_binaria',\n",
    "    'hipertension_binaria',\n",
    "    'zona_binaria'\n",
    "]]\n",
    "\n",
    "X = sm.add_constant(X)  # Agregar constante\n",
    "y = ens_filtrado['obesidad_binaria']\n",
    "\n",
    "# Ajustar modelo logístico\n",
    "model = sm.Logit(y, X)\n",
    "result = model.fit()\n",
    "\n",
    "# Resumen del modelo\n",
    "print(result.summary())\n",
    "\n",
    "# Calcular los odds ratios\n",
    "odds_ratios = np.exp(result.params)\n",
    "print(\"\\n--- Odds Ratios ---\")\n",
    "print(odds_ratios)\n",
    "\n",
    "# Calcular los valores p\n",
    "print(\"\\n--- Valores p ---\")\n",
    "print(result.pvalues)\n",
    "\n"
   ]
  },
  {
   "cell_type": "code",
   "execution_count": 115,
   "id": "2b8261f9",
   "metadata": {},
   "outputs": [
    {
     "name": "stdout",
     "output_type": "stream",
     "text": [
      "\n",
      "--- Predicción para nueva observación ---\n",
      "Probabilidad de obesidad: 0.3523\n"
     ]
    }
   ],
   "source": [
    "# <CODE> 6. Simular una nueva observación \n",
    "nueva_observacion = pd.DataFrame({\n",
    "    'const': [1],  # importante agregar constante\n",
    "    'sexo_binario': [1],              # Mujer\n",
    "    'actividad_fisica': [1],  # Sí\n",
    "    'fumador_binario': [0],           # No\n",
    "    'diabetes_binaria': [0],          # No\n",
    "    'hipertension_binaria': [0],      # No\n",
    "    'zona_binaria': [1]               # Centro/Norte\n",
    "})\n",
    "\n",
    "prediccion = result.predict(nueva_observacion)\n",
    "print(\"\\n--- Predicción para nueva observación ---\")\n",
    "print(f\"Probabilidad de obesidad: {prediccion.iloc[0]:.4f}\")"
   ]
  }
 ],
 "metadata": {
  "kernelspec": {
   "display_name": "diplomado",
   "language": "python",
   "name": "python3"
  },
  "language_info": {
   "codemirror_mode": {
    "name": "ipython",
    "version": 3
   },
   "file_extension": ".py",
   "mimetype": "text/x-python",
   "name": "python",
   "nbconvert_exporter": "python",
   "pygments_lexer": "ipython3",
   "version": "3.10.16"
  }
 },
 "nbformat": 4,
 "nbformat_minor": 5
}
