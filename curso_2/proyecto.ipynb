{
 "cells": [
  {
   "cell_type": "markdown",
   "id": "0",
   "metadata": {},
   "source": [
    "# Proyecto: Análisis de Mamografías y Predicción de Cáncer de Mama\n",
    "\n",
    "\n",
    "## 1. Introducción\n",
    "El cáncer de mama es una de las principales causas de muerte entre mujeres en todo el mundo. La detección temprana y el diagnóstico preciso son cruciales para mejorar las tasas de supervivencia.\n",
    "Este proyecto se centra en el análisis de mamografías para identificar patrones que puedan ayudar a distinguir entre tumores benignos y malignos. Utilizaremos técnicas de análisis estadístico, modelos predictivos y reducción de dimensionalidad para lograr este objetivo.\n",
    "\n",
    "\n",
    "## 2. Objetivo\n",
    "Analizar parámetros derivados de mamografías para distinguir entre tumores benignos y malignos.\n",
    "\n",
    "### Metodología\n",
    "\n",
    "1. **Análisis Exploratorio de Datos (EDA)**: Visualización y análisis de la distribución de características, correlaciones y patrones en los datos.\n",
    "2. **Preprocesamiento de Datos**: Limpieza y transformación de los datos para prepararlos para el modelado, incluyendo la normalización y la reducción de dimensionalidad.\n",
    "3. **Modelado Predictivo**: Implementación de modelos de machine learning para clasificar tumores como benignos o malignos.\n",
    "4. **Evaluación de Modelos**: Uso de métricas de rendimiento para evaluar la efectividad de los modelos y realizar ajustes según sea necesario.\n",
    "\n",
    "\n",
    "## 3. Dataset y Carga\n",
    "\n",
    "El dataset puede ser descargado mediante la siguiente celda de código:"
   ]
  },
  {
   "cell_type": "code",
   "execution_count": null,
   "id": "1",
   "metadata": {},
   "outputs": [],
   "source": [
    "!wget https://raw.githubusercontent.com/iHealthInstitute/Talleres_Diplomado_iHealth/refs/heads/main/data/Mamography_data.csv"
   ]
  },
  {
   "cell_type": "markdown",
   "id": "2",
   "metadata": {},
   "source": [
    "## 4. Enunciado\n",
    "\n",
    "Se busca predecir si un tumor es benigno o maligno a partir de los parámetros derivados de mamografías. El dataset contiene varias características numéricas que describen las propiedades de los tumores, así como una etiqueta que indica si el tumor es benigno o maligno.\n",
    "\n",
    "En particular, hay 6 variables de interés y una variable objetivo:\n",
    "- `label`: Variable objetivo (Benign o Malignant).\n",
    "- Variables predictoras a analizar:\n",
    "  - `mean texture`\n",
    "  - `mean radius`\n",
    "  - `mean fractal dimension`\n",
    "  - `mean smoothness`\n",
    "  - `mean compactness`\n",
    "  - `mean concavity`\n",
    "\n",
    "---\n",
    "### Parte 1: Análisis Exploratorio y Estadística Inferencial\n",
    "\n",
    "1. Carga el dataset y revisa sus dimensiones y tipos de variables. Asegurate de solo trabajar con las 6 variables mencionadas y la variable `diagnosis`.\n",
    "2. Genera un `pairplot` (o matriz de gráficos) de las variables seleccionadas usando la librería `seaborn`. Usa `diagnosis` como variable de color (`hue`).\n",
    "3. Verifica la distribución de cada una de las 6 variables por separado (en cada grupo):\n",
    "   - Aplica el test de normalidad de Shapiro-Wilk por separado en los grupos Benigno y Maligno.\n",
    "   - ¿Distribuyen normalmente? ¿En qué grupo? ¿En qué variables?\n",
    "4. Aplica pruebas estadísticas para comparar los grupos:\n",
    "   - Si se cumple normalidad: Aplica un t-test independiente.\n",
    "   - Si **no** se cumple normalidad: Aplica una prueba de Mann-Whitney U.\n",
    "5. Para cada variable, responde:\n",
    "   - ¿Cuál grupo tiene mayor valor promedio?\n",
    "   - ¿Es significativa la diferencia?\n",
    "\n",
    "\n"
   ]
  },
  {
   "cell_type": "code",
   "execution_count": null,
   "id": "3",
   "metadata": {},
   "outputs": [],
   "source": [
    "# <CODE> Librerías\n"
   ]
  },
  {
   "cell_type": "code",
   "execution_count": null,
   "id": "4",
   "metadata": {},
   "outputs": [],
   "source": [
    "# <CODE> Parte 1\n"
   ]
  },
  {
   "cell_type": "markdown",
   "id": "5",
   "metadata": {},
   "source": [
    "---\n",
    "\n",
    "### Parte 2: Modelamiento Predictivo\n",
    "\n",
    "1. Codifica la variable `diagnosis` como 0 = Benigno y 1 = Maligno.\n",
    "2. Usa las siguientes variables como predictores:\n",
    "   - `mean texture`\n",
    "   - `mean radius`\n",
    "   - `mean fractal dimension`\n",
    "   - `mean smoothness`\n",
    "   - `mean compactness`\n",
    "   - `mean concavity`\n",
    "3. Normaliza las variables predictoras usando `StandardScaler`.\n",
    "4. Ajusta un modelo de regresión logística con `statsmodels` y analiza el resumen.\n",
    "5. Interpreta:\n",
    "   - ¿Cuáles variables tienen mayor efecto sobre la probabilidad de malignidad?\n",
    "   - Calcula e interpreta los **odds ratios** (`np.exp()`).\n",
    "6. Usa el modelo para predecir la probabilidad de malignidad de tres nuevos pacientes:\n",
    "\n",
    "| Paciente | mean texture | mean radius | mean fractal dimension | mean smoothness | mean compactness | mean concavity |\n",
    "|----------|--------------|-------------|------------------------|------------------|------------------|----------------|\n",
    "| A        | 17.0         | 14.0        | 0.055                  | 0.095            | 0.120            | 0.300          |\n",
    "| B        | 23.0         | 18.0        | 0.285                  | 0.110            | 0.180            | 0.410          |\n",
    "| C        | 12.0         | 10.0        | 0.040                  | 0.080            | 0.070            | 0.100          |\n",
    "\n",
    "7. Preguntas:\n",
    "   - ¿Qué paciente tiene mayor probabilidad de tener un tumor maligno?\n",
    "   - ¿Cuál clasificarías como benigno con mayor seguridad?\n",
    "   - ¿Cuál caso parece ambiguo?\n",
    "\n",
    "> **Nota**: Para clasificar, puedes aplicar un umbral simple: si la probabilidad es mayor a 0.5, se predice como maligno; si es menor o igual a 0.5, se predice como benigno.\n"
   ]
  },
  {
   "cell_type": "code",
   "execution_count": null,
   "id": "6",
   "metadata": {},
   "outputs": [],
   "source": [
    "# <CODE> Librerías\n"
   ]
  },
  {
   "cell_type": "code",
   "execution_count": null,
   "id": "7",
   "metadata": {},
   "outputs": [],
   "source": [
    "# <CODE> Parte 2.\n"
   ]
  },
  {
   "cell_type": "markdown",
   "id": "8",
   "metadata": {},
   "source": [
    "---\n",
    "\n",
    "### 🧮 Parte 3: Análisis de Componentes Principales (PCA)\n",
    "\n",
    "1. Aplica PCA y normalize utilizando todas las variables predictoras del dataset (no solo las 6 seleccionadas).\n",
    "2. Reduce la dimensionalidad a 5 y grafica los dos primeros componentes principales.\n",
    "   - Usa la variable `diagnosis` para colorear los puntos.\n",
    "   - Grafica la varianza explicada por cada componente.\n",
    "3. Observa:\n",
    "   - ¿Los grupos se separan en el espacio de componentes principales?\n",
    "   - ¿Cuánta varianza explican los primeros 2 componentes?\n",
    "   - ¿Qué variables tienen mayor peso en cada componente?\n",
    "4. ¿Podrías usar PCA como paso previo a la regresión? ¿Por qué sí o no?"
   ]
  },
  {
   "cell_type": "code",
   "execution_count": null,
   "id": "9",
   "metadata": {},
   "outputs": [],
   "source": [
    "# <CODE> Librerías\n"
   ]
  },
  {
   "cell_type": "code",
   "execution_count": null,
   "id": "10",
   "metadata": {},
   "outputs": [],
   "source": [
    "# <CODE> Parte 3\n"
   ]
  }
 ],
 "metadata": {
  "kernelspec": {
   "display_name": "diplomado",
   "language": "python",
   "name": "python3"
  },
  "language_info": {
   "codemirror_mode": {
    "name": "ipython",
    "version": 3
   },
   "file_extension": ".py",
   "mimetype": "text/x-python",
   "name": "python",
   "nbconvert_exporter": "python",
   "pygments_lexer": "ipython3",
   "version": "3.10.16"
  }
 },
 "nbformat": 4,
 "nbformat_minor": 5
}
