{
 "cells": [
  {
   "cell_type": "markdown",
   "id": "0079a4a7",
   "metadata": {},
   "source": [
    "\n",
    "\n",
    "# Taller: An\u00e1lisis de Hip\u00f3tesis con Datos de la ENS 2016-2017\n",
    "\n",
    "\n",
    "\n",
    "## 1. Introducci\u00f3n\n",
    "\n",
    "\n",
    "\n",
    "En investigaci\u00f3n cuantitativa, la docimacia de hip\u00f3tesis (o prueba de hip\u00f3tesis) permite evaluar si las diferencias observadas en los datos pueden atribuirse al azar o reflejan patrones reales en la poblaci\u00f3n. Este taller tiene como objetivo introducir herramientas estad\u00edsticas para comprobar hip\u00f3tesis en datos reales, utilizando Python como herramienta de an\u00e1lisis.\n",
    "\n",
    "\n",
    "\n",
    "A partir de la Encuesta Nacional de Salud (ENS) 2016-2017, trabajaremos con variables demogr\u00e1ficas, biom\u00e9tricas y cl\u00ednicas para:\n",
    "\n",
    "- Verificar supuestos de normalidad.\n",
    "\n",
    "- Comparar variables entre grupos (por ejemplo, hombres vs. mujeres).\n",
    "\n",
    "- Analizar diferencias en variables continuas y categ\u00f3ricas.\n",
    "\n",
    "\n",
    "\n",
    "Este an\u00e1lisis es clave para evaluar desigualdades en salud, dise\u00f1ar pol\u00edticas basadas en evidencia y generar conclusiones confiables a partir de datos poblacionales.\n",
    "\n",
    "\n",
    "\n",
    "## 2. Objetivos\n",
    "\n",
    "Al finalizar este taller, los y las estudiantes ser\u00e1n capaces de:\n",
    "\n",
    "\n",
    "\n",
    "* Evaluar la normalidad de variables cuantitativas\n",
    "\n",
    "- Verificar normalidad en variables como Edad, Peso, Talla, Glicemia y Colesterol.\n",
    "\n",
    "* Comparar variables continuas entre grupos\n",
    "\n",
    "- Aplicar pruebas t de Student para muestras independientes (hombres vs. mujeres).\n",
    "\n",
    "- Comparar variables como Peso, IMC, y Glicemia por sexo.\n",
    "\n",
    "* Comparar variables categ\u00f3ricas u ordinales\n",
    "\n",
    "- Evaluar diferencias en n\u00famero de comorbilidades o nivel educacional entre grupos.\n",
    "\n",
    "- Utilizar pruebas como chi-cuadrado o pruebas no param\u00e9tricas.\n",
    "\n",
    "* Interpretar resultados\n",
    "\n",
    "- Comprender el significado de los valores p.\n",
    "\n",
    "- Formular y contrastar hip\u00f3tesis nula y alternativa.\n",
    "\n",
    "- Traducir los resultados estad\u00edsticos en hallazgos interpretables en contexto de salud p\u00fablica.\n",
    "\n",
    "\n",
    "\n",
    "## 3. Dataset\n",
    "\n",
    "\n",
    "\n",
    "La Encuesta Nacional de Salud (ENS) 2016-2017 es un estudio representativo de la poblaci\u00f3n chilena que recopila datos sobre salud f\u00edsica y mental, factores de riesgo, estilo de vida y uso de servicios sanitarios. Esta informaci\u00f3n permite caracterizar el estado de salud y sus determinantes a nivel nacional.En este taller trabajaremos con un subconjunto de variables relevantes para el an\u00e1lisis estad\u00edstico de hip\u00f3tesis. Los datos son de acceso p\u00fablico y est\u00e1n disponibles en este repositorio. A trav\u00e9s de este conjunto de datos, aprenderemos a aplicar pruebas estad\u00edsticas cl\u00e1sicas sobre variables reales, extrayendo conclusiones aplicables a la investigaci\u00f3n en salud p\u00fablica. Los datos se encuentran [disponibles p\u00fablicamente](https://data.mendeley.com/datasets/3myh3nzcy3/1).\n",
    "\n",
    "![img/ens.png]()\n"
   ]
  },
  {
   "cell_type": "markdown",
   "id": "f0763b5c",
   "metadata": {},
   "source": [
    "### 3.1 Librer\u00edas necesarias\n",
    "Las siguientes librerias son necesarias para el an\u00e1lisis de datos y visualizaci\u00f3n. "
   ]
  },
  {
   "cell_type": "code",
   "execution_count": 1,
   "id": "346095c9",
   "metadata": {},
   "outputs": [],
   "source": [
    "%%capture\n",
    "# Instalar librerias para leer archivos SPSS\n",
    "!pip install pyreadstat"
   ]
  },
  {
   "cell_type": "code",
   "execution_count": 3,
   "id": "be3e8acf",
   "metadata": {},
   "outputs": [],
   "source": [
    "import pandas as pd\n",
    "from matplotlib import pyplot as plt\n",
    "import numpy as np"
   ]
  },
  {
   "cell_type": "markdown",
   "id": "6af29d30",
   "metadata": {},
   "source": [
    "### 3.2 Cargar Datos\n",
    "\n",
    "Tal como se realizo en el taller anterior, se descargara la base de datos utilizando `wget` y luego se cargara la base de datos en la variable `ens` utilizando la funci\u00f3n de pandas `read_spss`.  "
   ]
  },
  {
   "cell_type": "code",
   "execution_count": 5,
   "id": "a149d7ce",
   "metadata": {},
   "outputs": [
    {
     "name": "stdout",
     "output_type": "stream",
     "text": [
      "--2025-07-15 16:47:22--  https://github.com/iHealthInstitute/Talleres_Diplomado_iHealth/raw/refs/heads/main/data/ENS2016-2017.sav\n",
      "Resolviendo github.com (github.com)... 20.201.28.151\n",
      "Conectando con github.com (github.com)[20.201.28.151]:443... conectado.\n",
      "Petici\u00f3n HTTP enviada, esperando respuesta... 302 Found\n",
      "Localizaci\u00f3n: https://raw.githubusercontent.com/iHealthInstitute/Talleres_Diplomado_iHealth/refs/heads/main/data/ENS2016-2017.sav [siguiendo]\n",
      "--2025-07-15 16:47:23--  https://raw.githubusercontent.com/iHealthInstitute/Talleres_Diplomado_iHealth/refs/heads/main/data/ENS2016-2017.sav\n",
      "Resolviendo raw.githubusercontent.com (raw.githubusercontent.com)... 185.199.110.133, 185.199.111.133, 185.199.108.133, ...\n",
      "Conectando con raw.githubusercontent.com (raw.githubusercontent.com)[185.199.110.133]:443... conectado.\n",
      "Petici\u00f3n HTTP enviada, esperando respuesta... 200 OK\n",
      "Longitud: 34441286 (33M) [application/octet-stream]\n",
      "Grabando a: \u00abENS2016-2017.sav.3\u00bb\n",
      "\n",
      "ENS2016-2017.sav.3  100%[===================>]  32.85M  59.9MB/s    en 0.5s    \n",
      "\n",
      "2025-07-15 16:47:25 (59.9 MB/s) - \u00abENS2016-2017.sav.3\u00bb guardado [34441286/34441286]\n",
      "\n"
     ]
    }
   ],
   "source": [
    "# Descargar ENS\n",
    "!wget https://github.com/iHealthInstitute/Talleres_Diplomado_iHealth/raw/refs/heads/main/data/ENS2016-2017.sav"
   ]
  },
  {
   "cell_type": "code",
   "execution_count": 7,
   "id": "bd6e48e8",
   "metadata": {},
   "outputs": [
    {
     "name": "stdout",
     "output_type": "stream",
     "text": [
      "   IdEncuesta  FechaInicioF1               Region    Comuna    Zona  \\\n",
      "0     20006.0   1.369894e+10  XIII. Metropolitana  Santiago  URBANA   \n",
      "1     20008.0   1.369964e+10  XIII. Metropolitana  Santiago  URBANA   \n",
      "2     20011.0   1.369955e+10  XIII. Metropolitana  Santiago  URBANA   \n",
      "3     20012.0   1.369903e+10  XIII. Metropolitana  Santiago  URBANA   \n",
      "4     20013.0   1.369902e+10  XIII. Metropolitana  Santiago  URBANA   \n",
      "\n",
      "   IdSegmento  IdPersona_1      Ident7  Edad Edad_Codificada  ...  \\\n",
      "0  13101101.0        241.0  1977-12-18  38.0         25 - 44  ...   \n",
      "1  13101101.0        197.0  1991-10-23  25.0         25 - 44  ...   \n",
      "2  13101102.0        321.0  1996-05-31  20.0           15-24  ...   \n",
      "3  13101102.0        245.0  1931-04-14  85.0             65+  ...   \n",
      "4  13101102.0        242.0  1975-06-24  41.0         25 - 44  ...   \n",
      "\n",
      "  fg_CKDschwartz_diminuido_60 fg_CKDschwartz_diminuido_30 Fechaini_F1  \\\n",
      "0                         NaN                         NaN  2016-11-19   \n",
      "1                          No                          No  2016-11-27   \n",
      "2                          No                          No  2016-11-26   \n",
      "3                          S\u00ed                          S\u00ed  2016-11-20   \n",
      "4                         NaN                         NaN  2016-11-20   \n",
      "\n",
      "   Fechaini_F2 Sospecha_Depresion Cantidad_sintomas_depresivos  Arsenico_\u00b5gL  \\\n",
      "0          NaN                 No                          3.0           NaN   \n",
      "1   2016-12-13                NaN                          NaN          5.00   \n",
      "2   2016-12-07                 S\u00ed                          5.0         14.79   \n",
      "3   2016-11-23                 No                          0.0          5.00   \n",
      "4          NaN                 No                          0.0           NaN   \n",
      "\n",
      "  Cadmio_\u00b5gL Mercurio_\u00b5gL Plomo_\u00b5gdL  \n",
      "0        NaN          NaN        NaN  \n",
      "1        1.0          2.0        1.0  \n",
      "2        1.0          2.0        1.0  \n",
      "3        1.0          2.0        1.0  \n",
      "4        NaN          NaN        NaN  \n",
      "\n",
      "[5 rows x 1165 columns]\n",
      "(6233, 1165)\n"
     ]
    }
   ],
   "source": [
    "ens = pd.read_spss('ENS2016-2017.sav')\n",
    "print(ens.head())\n",
    "print(ens.shape)"
   ]
  },
  {
   "cell_type": "code",
   "execution_count": null,
   "id": "46029534",
   "metadata": {},
   "outputs": [],
   "source": []
  }
 ],
 "metadata": {
  "kernelspec": {
   "display_name": "diplomado",
   "language": "python",
   "name": "python3"
  },
  "language_info": {
   "codemirror_mode": {
    "name": "ipython",
    "version": 3
   },
   "file_extension": ".py",
   "mimetype": "text/x-python",
   "name": "python",
   "nbconvert_exporter": "python",
   "pygments_lexer": "ipython3",
   "version": "3.10.16"
  }
 },
 "nbformat": 4,
 "nbformat_minor": 5
}