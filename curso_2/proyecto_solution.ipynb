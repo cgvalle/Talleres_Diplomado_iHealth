{
 "cells": [
  {
   "cell_type": "markdown",
   "id": "0cee6d3e",
   "metadata": {},
   "source": [
    "# Proyecto: Análisis de Mamografías y Predicción de Cáncer de Mama\n",
    "\n",
    "\n",
    "## 1. Introducción\n",
    "El cáncer de mama es una de las principales causas de muerte entre mujeres en todo el mundo. La detección temprana y el diagnóstico preciso son cruciales para mejorar las tasas de supervivencia.\n",
    "Este proyecto se centra en el análisis de mamografías para identificar patrones que puedan ayudar a distinguir entre tumores benignos y malignos. Utilizaremos técnicas de análisis estadístico, modelos predictivos y reducción de dimensionalidad para lograr este objetivo.\n",
    "\n",
    "\n",
    "## 2. Objetivo\n",
    "Analizar parámetros derivados de mamografías para distinguir entre tumores benignos y malignos.\n",
    "\n",
    "### Metodología\n",
    "\n",
    "1. **Análisis Exploratorio de Datos (EDA)**: Visualización y análisis de la distribución de características, correlaciones y patrones en los datos.\n",
    "2. **Preprocesamiento de Datos**: Limpieza y transformación de los datos para prepararlos para el modelado, incluyendo la normalización y la reducción de dimensionalidad.\n",
    "3. **Modelado Predictivo**: Implementación de modelos de machine learning para clasificar tumores como benignos o malignos.\n",
    "4. **Evaluación de Modelos**: Uso de métricas de rendimiento para evaluar la efectividad de los modelos y realizar ajustes según sea necesario.\n",
    "\n",
    "\n",
    "## 3. Dataset y Carga\n",
    "\n",
    "El dataset puede ser descargado mediante la siguiente celda de código:"
   ]
  },
  {
   "cell_type": "code",
   "execution_count": 2,
   "id": "dd804e3b",
   "metadata": {},
   "outputs": [
    {
     "name": "stdout",
     "output_type": "stream",
     "text": [
      "--2025-07-30 12:26:59--  https://raw.githubusercontent.com/iHealthInstitute/Talleres_Diplomado_iHealth/refs/heads/main/data/Mamography_data.csv\n",
      "Resolviendo raw.githubusercontent.com (raw.githubusercontent.com)... 185.199.108.133, 185.199.111.133, 185.199.110.133, ...\n",
      "Conectando con raw.githubusercontent.com (raw.githubusercontent.com)[185.199.108.133]:443... conectado.\n",
      "Petición HTTP enviada, esperando respuesta... 200 OK\n",
      "Longitud: 127043 (124K) [text/plain]\n",
      "Grabando a: «Mamography_data.csv.1»\n",
      "\n",
      "Mamography_data.csv 100%[===================>] 124.07K  --.-KB/s    en 0.01s   \n",
      "\n",
      "2025-07-30 12:26:59 (8.28 MB/s) - «Mamography_data.csv.1» guardado [127043/127043]\n",
      "\n"
     ]
    }
   ],
   "source": [
    "!wget https://raw.githubusercontent.com/iHealthInstitute/Talleres_Diplomado_iHealth/refs/heads/main/data/Mamography_data.csv"
   ]
  },
  {
   "cell_type": "markdown",
   "id": "53225c08",
   "metadata": {},
   "source": [
    "## 4. Enunciado"
   ]
  },
  {
   "cell_type": "markdown",
   "id": "cf2c8d90",
   "metadata": {},
   "source": [
    "#### **Ejercicio 1**\n",
    "1. \n"
   ]
  }
 ],
 "metadata": {
  "kernelspec": {
   "display_name": "diplomado",
   "language": "python",
   "name": "python3"
  },
  "language_info": {
   "codemirror_mode": {
    "name": "ipython",
    "version": 3
   },
   "file_extension": ".py",
   "mimetype": "text/x-python",
   "name": "python",
   "nbconvert_exporter": "python",
   "pygments_lexer": "ipython3",
   "version": "3.10.16"
  }
 },
 "nbformat": 4,
 "nbformat_minor": 5
}
