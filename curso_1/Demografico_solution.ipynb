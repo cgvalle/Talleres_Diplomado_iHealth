{
 "cells": [
  {
   "cell_type": "markdown",
   "metadata": {},
   "source": [
    "# Actividad Pr\u00e1ctica: An\u00e1lisis Demogr\u00e1fico con Datos Abiertos del MINSAL\n",
    "\n",
    "Utilizaremos la base de datos de Egresos Hospitalarios del Departamento de Estad\u00edsticas e Informaci\u00f3n de Salud (DEIS) del Ministerio de Salud de Chile. El dataset contiene informaci\u00f3n sobre egresos hospitalarios en todo el pa\u00eds, incluyendo variables demogr\u00e1ficas, cl\u00ednicas y administrativas. El objetivo de este taller es trabajar con datos abiertos y aplicar t\u00e9cnicas de an\u00e1lisis exploratorio para comprender la informaci\u00f3n contenida en el dataset.\n",
    "\n",
    "Al finalizar este taller, los y las estudiantes ser\u00e1n capaces de:\n",
    "* Cargar y explorar bases de datos extensas utilizando pandas, identificando su estructura y calidad.\n",
    "* Aplicar t\u00e9cnicas de filtrado, agrupaci\u00f3n y transformaci\u00f3n de datos para generar variables e indicadores.\n",
    "* Calcular estad\u00edsticas descriptivas y proporciones a partir de variables categ\u00f3ricas y num\u00e9ricas.\n",
    "* Visualizar informaci\u00f3n mediante gr\u00e1ficos para facilitar la interpretaci\u00f3n.\n",
    "* Analizar relaciones entre variables demogr\u00e1ficas y cl\u00ednicas en un contexto de salud p\u00fablica real.\n",
    "\n",
    "\n",
    "##  1. Bases de datos abiertos: MINSAL\n",
    "### 1.1. Introducci\u00f3n a los datos abiertos\n",
    "\n",
    "Los datos abiertos son conjuntos de datos que est\u00e1n disponibles para el p\u00fablico de forma gratuita y sin restricciones. Estos datos pueden ser utilizados, modificados y compartidos por cualquier persona, lo que fomenta la transparencia, la innovaci\u00f3n y la colaboraci\u00f3n en diversas \u00e1reas, incluyendo la salud p\u00fablica. En este taller, utilizaremos datos abiertos del Ministerio de Salud de Chile para realizar un an\u00e1lisis demogr\u00e1fico y cl\u00ednico de los egresos hospitalarios en el pa\u00eds. \n",
    "\n",
    "### 1.2. Egresos Hospitalarios\n",
    "\n",
    "Los egresos hospitalarios son registros de pacientes que han sido dados de alta de un hospital despu\u00e9s de recibir atenci\u00f3n m\u00e9dica. Estos datos son fundamentales para comprender la carga de enfermedades, la utilizaci\u00f3n de servicios de salud y la calidad de la atenci\u00f3n m\u00e9dica en un pa\u00eds. El Ministerio de Salud de Chile publica regularmente datos sobre egresos hospitalarios, que incluyen informaci\u00f3n demogr\u00e1fica, diagn\u00f3sticos, procedimientos y otros aspectos relevantes.\n",
    "\n",
    "Estos se encuentran disponibles en el sitio web del [Departamento de Estad\u00edsticas e Informaci\u00f3n de Salud](https://deis.minsal.cl/). En particular utilizaremos la base \"Egresos Hospitalarios por Comuna de Residencia (disociados) A\u00f1o 2024\". \n",
    "\n",
    "Para acceder a los datos, pueden navegar a la secci\u00f3n de \"Datos Abiertos\" en el sitio web del MINSAL y buscar la base de datos correspondiente. Una vez que encuentren la base de datos, se descargara en formato zip.\n",
    "\n",
    "\n",
    "![](/Users/carlos/Documents/github/Diplomado_iHealth/img/base_egresos.png)\n",
    "\n",
    "\n"
   ]
  },
  {
   "cell_type": "markdown",
   "metadata": {},
   "source": [
    "## 1.3 Carga de datos\n",
    "\n",
    "Google Colab funciona en un ambiente de nube basado en linux, por lo que podemos utilizar de manera directa commandos de linux para descargar y descomprimir archivos. En este caso, utilizaremos el comando `!wget` para descargar el archivo zip y luego lo descomprimiremos utilizando el comando `!unzip`."
   ]
  },
  {
   "cell_type": "code",
   "execution_count": null,
   "metadata": {},
   "outputs": [],
   "source": [
    "!wget https://repositoriodeis.minsal.cl/DatosAbiertos/EGRESOS/EGRESOS_2024.zip \n",
    "!unzip EGRESOS_2024.zip"
   ]
  },
  {
   "cell_type": "markdown",
   "metadata": {},
   "source": [
    "Se recomienda descargar el dataset en su computador para visualizar el archivo `Diccionario BD egresos hospitalario.xlsx` y conocer la estructura de la base de datos. \n",
    "\n",
    "Las variables que se encuentran en el diccionario son las siguientes:\n",
    "\n",
    "\n",
    "<center>\n",
    "\n",
    "| Nombre   Variable                | Descripci\u00f3n                                                                      |\n",
    "|----------------------------------|----------------------------------------------------------------------------------|\n",
    "| PERTENENCIA_ESTABLECIMIENTO_SALU | Tipo de pertenencia (Perteneciente o   No perteneciente al SNSS)                 |\n",
    "| SEXO                             | C\u00f3digo del sexo   biologico del paciente                                         |\n",
    "| GRUPO_EDAD                       | Grupo de edad del   paciente al momento de su ingreso                            |\n",
    "| ETNIA                            | Se identifica o no   con una etnia                                               |\n",
    "| GLOSA_PAIS_ORIGEN                | Indica si es chileno   o extranjero                                              |\n",
    "| COMUNA_RESIDENCIA                | C\u00f3digo comuna de   residencia del paciente                                       |\n",
    "| GLOSA_COMUNA_RESIDENCIA          | Nombre de la comuna   de residencia                                              |\n",
    "| REGION_RESIDENCIA                | C\u00f3digo regi\u00f3n de   residencia del paciente                                       |\n",
    "| GLOSA_REGION_RESIDENCIA          | Nombre de la regi\u00f3n   de residencia                                              |\n",
    "| PREVISION                        | C\u00f3digo de previsi\u00f3n   de salud del paciente al momento del ingreso               |\n",
    "| GLOSA_PREVISION                  | Glosa previsi\u00f3n de   salud del paciente al momento del ingreso                   |\n",
    "| ANO_EGRESO                       | A\u00f1o del egreso                                                                   |\n",
    "| DIAG1                            | C\u00f3digo CIE-10 del   diagnostico principal                                        |\n",
    "| DIAG2                            | C\u00f3digo CIE-10 de la   causa externa                                              |\n",
    "| DIAS_ESTAD                       | D\u00edas de estada total                                                             |\n",
    "| CONDICION_EGRESO                 | C\u00f3digo   de la condici\u00f3n al egreso del paciente          1=Vivo      2=Fallecido |\n",
    "\n",
    "</center>\n"
   ]
  },
  {
   "cell_type": "markdown",
   "metadata": {},
   "source": [
    "## 2. Trabajando con datos\n",
    "\n",
    "### 2.1 Carga de librer\u00edas\n",
    "\n",
    "#### **Ejercicio 1** \n",
    "\n",
    "Cargue las librer\u00edas necesarias para trabajar con el dataset en cuando a archivos csv y visualizaci\u00f3n. "
   ]
  },
  {
   "cell_type": "code",
   "execution_count": null,
   "metadata": {},
   "outputs": [],
   "source": [
    "# <CODE>\n",
    "import pandas as pd\n",
    "from matplotlib import pyplot as plt"
   ]
  },
  {
   "cell_type": "markdown",
   "metadata": {},
   "source": [
    "#### **Ejercicio 2** \n",
    "Una vez que haya cargado las librer\u00edas, cargue el dataset `Egresos Hospitalarios por Comuna de Residencia (disociados) A\u00f1o 2024` en un dataframe llamado `egresos`. HINT:  Este tipo de archivos puede utilizar distintos separadores (,, ;, |) y codificaciones de texto (encoding). Si al leer el archivo obtienes errores o caracteres extra\u00f1os, investiga cu\u00e1l es el separador y el encoding correcto para poder cargarlo adecuadamente. \n",
    "\n",
    "\n"
   ]
  },
  {
   "cell_type": "code",
   "execution_count": null,
   "metadata": {},
   "outputs": [],
   "source": [
    "# <CODE>\n",
    "egresos = pd.read_csv('EGRESOS_2024.csv', sep=';', encoding='latin1')\n",
    "print(egresos.head())"
   ]
  },
  {
   "cell_type": "markdown",
   "metadata": {},
   "source": [
    "#### **Ejercicio 3** \n",
    "Realize un analisis exploratorio de los datos. Identique las cantidad de filas y columnas, el nombre de las columnas, los tipos de datos y la cantidad de valores nulos."
   ]
  },
  {
   "cell_type": "code",
   "execution_count": null,
   "metadata": {},
   "outputs": [],
   "source": [
    "# <CODE> Cantidad de filas y columnas\n",
    "filas, columnas = egresos.shape\n",
    "\n",
    "print(f'Cantidad de filas: {filas}')\n",
    "print(f'Cantidad de columnas: {columnas}')"
   ]
  },
  {
   "cell_type": "code",
   "execution_count": null,
   "metadata": {},
   "outputs": [],
   "source": [
    "# <CODE> Nombres de las columnas\n",
    "nombres_columnas = egresos.columns.tolist()\n",
    "print(f'Nombres de las columnas: {nombres_columnas}')"
   ]
  },
  {
   "cell_type": "code",
   "execution_count": null,
   "metadata": {},
   "outputs": [],
   "source": [
    "# <CODE> TIpos de dato por columna\n",
    "tipos_dato = egresos.info()\n",
    "print(f'Tipos de dato por columna: {tipos_dato}')"
   ]
  },
  {
   "cell_type": "code",
   "execution_count": null,
   "metadata": {},
   "outputs": [],
   "source": [
    "# <CODE> Cantidad de valores nulos\n",
    "valores_nulos = egresos.isnull().sum()\n",
    "print(f'Cantidad de valores nulos por columna: \\n{valores_nulos}')"
   ]
  },
  {
   "cell_type": "markdown",
   "metadata": {},
   "source": [
    "#### **Ejercicio 4** \n",
    "\n",
    "Obtenga los valores \u00fanicos de las siguientes variables (HINT: use values_counts):\n",
    "- `SEXO`\n",
    "- `GRUPO_EDAD`\n",
    "- `ETNIA`\n",
    "- `CONDICION_EGRESO`\n",
    "- `GLOSA_PREVISION`\n",
    "- `DIAS_ESTAD`\n",
    "\n",
    "Responda a las siguientes preguntas:\n",
    "* \u00bfCu\u00e1ntos valores \u00fanicos tiene cada variable?\n",
    "* \u00bfEs necesario realizar alg\u00fan tipo de limpieza o transformaci\u00f3n en los datos? \u00bfPor qu\u00e9?\n"
   ]
  },
  {
   "cell_type": "code",
   "execution_count": null,
   "metadata": {},
   "outputs": [],
   "source": [
    "# <CODE> SEXO\n",
    "print(egresos['SEXO'].value_counts())\n",
    "\n",
    "print(\"Si es necesario, ya que existen diferentes representaciones de 1 y 2.\\nAdicionalmente se encuntra el valor * que representa a los datos que no se encuentran disponibles.\")\n"
   ]
  },
  {
   "cell_type": "code",
   "execution_count": null,
   "metadata": {},
   "outputs": [],
   "source": [
    "# <CODE> GRUPO_EDAD\n",
    "print(egresos['GRUPO_EDAD'].value_counts())\n",
    "\n",
    "print(\"Los datos se encuentras tabulados en ragos y no parecen tener errores o valores faltantes\")"
   ]
  },
  {
   "cell_type": "code",
   "execution_count": null,
   "metadata": {},
   "outputs": [],
   "source": [
    "# <CODE> ETNIA\n",
    "\n",
    "egresos['ETNIA'].value_counts()\n",
    "\n",
    "\n",
    "print(\"Aunque el diccionario indica que existe la columna 'ETNIA', no se encuentra en el dataset.\")"
   ]
  },
  {
   "cell_type": "code",
   "execution_count": null,
   "metadata": {},
   "outputs": [],
   "source": [
    "# <CODE> CONDICION_EGRESO\n",
    "print(egresos['CONDICION_EGRESO'].value_counts())\n",
    "print(\"Los datos se encuentran bien tabulados y no parecen tener errores o valores faltantes.\")"
   ]
  },
  {
   "cell_type": "code",
   "execution_count": null,
   "metadata": {},
   "outputs": [],
   "source": [
    "# <CODE> GLOSA_PREVISION\n",
    "print(egresos['GLOSA_PREVISION'].value_counts())\n",
    "print(\"Los datos se encuentran bien tabulados, aunque existen valores * que representan datos no disponibles.\")"
   ]
  },
  {
   "cell_type": "code",
   "execution_count": null,
   "metadata": {},
   "outputs": [],
   "source": [
    "# <CODE> DIAS_ESTAD\n",
    "print(egresos['DIAS_ESTADA'].value_counts())\n",
    "\n",
    "print(\"Se observa que la columna 'DIAS_ESTAD' no esta presente en el dataset\")\n",
    "print(\"Esta se encuentra codificada como DIAS_ESTADA\")"
   ]
  },
  {
   "cell_type": "markdown",
   "metadata": {},
   "source": [
    "### 2.2 Manipulaci\u00f3n de datos"
   ]
  },
  {
   "cell_type": "markdown",
   "metadata": {},
   "source": [
    "#### **Ejercicio 5** \n",
    "\n",
    "Debido a que la variable `SEXO` tiene valores categ\u00f3ricos mediante texto, es recomendable transformarla a valores num\u00e9ricos. Para ello, utilice la funci\u00f3n `replace` para reemplazar los valores y elimine los valores nulos (`*`). \n",
    "\n"
   ]
  },
  {
   "cell_type": "code",
   "execution_count": null,
   "metadata": {},
   "outputs": [],
   "source": [
    "# <CODE>\n",
    "\n",
    "# Remover valores *\n",
    "egresos = egresos[egresos['SEXO'] != '*']\n",
    "\n",
    "# transformar en int\n",
    "egresos['SEXO'] = egresos['SEXO'].astype(int)\n",
    "\n",
    "print(egresos['SEXO'].value_counts())\n",
    "\n"
   ]
  },
  {
   "cell_type": "markdown",
   "metadata": {},
   "source": [
    "#### **Ejercicio 6** \n",
    "\n",
    "Ahora que las variables de inter\u00e9s est\u00e1n correctamente estructuradas, es momento de comenzar la exploraci\u00f3n de la informaci\u00f3n que nos proporcionan. Para ello, se generar\u00e1 un gr\u00e1fico comparativo que muestre la distribuci\u00f3n de la condici\u00f3n de egreso seg\u00fan el sexo de los pacientes (hombres y mujeres)."
   ]
  },
  {
   "cell_type": "code",
   "execution_count": null,
   "metadata": {},
   "outputs": [],
   "source": [
    "# <CODE>\n",
    "\n",
    "egreso_vs_sexo = egresos[['CONDICION_EGRESO', 'SEXO']].groupby([ 'CONDICION_EGRESO', 'SEXO']).size().unstack()\n",
    "egreso_vs_sexo = egreso_vs_sexo.rename(columns={1: 'Hombres', 2: 'Mujeres'}, index={1: 'Vivo', 2: 'Fallecido'})\n",
    "egreso_vs_sexo.plot(kind='bar', stacked=False, color=['blue', 'pink'])\n",
    "\n",
    "plt.title('Condici\u00f3n de Egreso por Sexo')\n",
    "plt.xlabel('Condici\u00f3n de Egreso')\n",
    "plt.ylabel('Cantidad de Egresos')\n",
    "plt.xticks(rotation=0)\n",
    "\n",
    "plt.show()"
   ]
  },
  {
   "cell_type": "markdown",
   "metadata": {},
   "source": [
    "#### **Ejercicio 7** \n",
    "\n",
    "Ahora se busca evaluar la proporci\u00f3n de condici\u00f3n de egreso seg\u00fan el grupo etario. Para ello, genere un gr\u00e1fico que muestre, para cada grupo etario, la distribuci\u00f3n proporcional de las distintas condiciones de egreso. Responda:\n",
    "\n",
    "* \u00bfC\u00faal es el grupo etario con mayor proporci\u00f3n de egresos fallecidos?\n",
    "* \u00bfC\u00faal es el grupo etario con mayor proporci\u00f3n de egresos vivos?\n",
    "\n",
    "Asegurese que el grafico muestre el orden correcto de los grupos etarios. \n"
   ]
  },
  {
   "cell_type": "code",
   "execution_count": null,
   "metadata": {},
   "outputs": [],
   "source": [
    "# Calcular proporci\u00f3n de fallecidos por grupo etario\n",
    "proporcion_fallecidos = egresos.groupby('GRUPO_EDAD')['CONDICION_EGRESO'].apply(lambda x: (x == 2).mean())\n",
    "\n",
    "# ordenar columnas\n",
    "orden = ['menor a 7 d\u00edas','7 A 27 DIAS', '28 DIAS A 2 MES','2 MESES A MENOS DE 1 A\u00d1O', \n",
    "         '1 A 4 A\u00d1OS','5 A 9 A\u00d1OS', '10 A 14 A\u00d1OS', '15 A 19 A\u00d1OS','20 A 24 A\u00d1OS', '25 A 29 A\u00d1OS',\n",
    "        '30 A 34 A\u00d1OS', '35 A 39 A\u00d1OS', '40 A 44 A\u00d1OS',\n",
    "       '45 A 49 A\u00d1OS', '50 A 54 A\u00d1OS', '55 A 59 A\u00d1OS',\n",
    "       '60 A 64 A\u00d1OS', '65 A 69 A\u00d1OS',  '70 A 74 A\u00d1OS',\n",
    "       '75 A 79 A\u00d1OS', '80 A 84 A\u00d1OS', '85 A MAS']\n",
    "\n",
    "proporcion_fallecidos = proporcion_fallecidos.reindex(orden)\n",
    "# Graficar\n",
    "proporcion_fallecidos.plot(kind='bar', figsize=(10, 5), color='tomato')\n",
    "\n",
    "plt.title('Proporci\u00f3n de fallecidos por grupo etario')\n",
    "plt.xlabel('Grupo etario')\n",
    "plt.ylabel('Proporci\u00f3n de fallecidos')\n",
    "plt.ylim(0, 0.15)\n",
    "plt.grid(axis='y', linestyle='--', alpha=0.7)\n",
    "plt.tight_layout()\n",
    "plt.show()"
   ]
  },
  {
   "cell_type": "markdown",
   "metadata": {},
   "source": [
    "#### **Ejercicio 8** \n",
    "\n",
    "De igual manera realize un gr\u00e1fico que muestre la proporci\u00f3n de condici\u00f3n de egreso seg\u00fan la previsi\u00f3n de salud. Responda:\n",
    "* \u00bfC\u00faal es la previsi\u00f3n de salud con mayor proporci\u00f3n de egresos fallecidos?\n",
    "* \u00bfC\u00faal es la previsi\u00f3n de salud con mayor proporci\u00f3n de egresos vivos?\n"
   ]
  },
  {
   "cell_type": "code",
   "execution_count": null,
   "metadata": {},
   "outputs": [],
   "source": [
    "# <CODE>\n",
    "\n",
    "proporcion_prevision = egresos.groupby('GLOSA_PREVISION')['CONDICION_EGRESO'].apply(lambda x: (x == 2).mean())\n",
    "proporcion_prevision = proporcion_prevision.sort_values(ascending=False)\n",
    "\n",
    "# Graficar\n",
    "proporcion_prevision.plot(kind='bar', figsize=(10, 5), color='tomato')\n",
    "plt.title('Proporci\u00f3n de fallecidos por previsi\u00f3n')\n",
    "plt.xlabel('Previsi\u00f3n')\n",
    "plt.ylabel('Proporci\u00f3n de fallecidos')\n",
    "plt.grid(axis='y', linestyle='--', alpha=0.7)\n",
    "plt.show()\n",
    "\n"
   ]
  },
  {
   "cell_type": "markdown",
   "metadata": {},
   "source": [
    "#### **Ejercicio 9** \n",
    "\n",
    "Ahora se busca evaluar la cantidad de d\u00edas segun la regi\u00f3n de residencia.  Para ello, genere un gr\u00e1fico que muestre, para cada regi\u00f3n, la cantidad de d\u00edas promedio de estad\u00eda en el hospital. Responda:\n",
    "* \u00bfC\u00faal es la regi\u00f3n con mayor cantidad de d\u00edas promedio de estad\u00eda?\n",
    "* \u00bfC\u00faal es la regi\u00f3n con menor cantidad de d\u00edas promedio de estad\u00eda?\n",
    "* \u00bfC\u00faal es la regi\u00f3n con mayor cantidad de egresos?\n",
    "* \u00bfC\u00faal es la regi\u00f3n con menor cantidad de egresos?\n",
    "* \u00bfExisten datos nulos?\n",
    "\n"
   ]
  },
  {
   "cell_type": "code",
   "execution_count": null,
   "metadata": {},
   "outputs": [],
   "source": [
    "# <CODE>\n",
    "\n",
    "comuna_vs_dias = egresos[['GLOSA_REGION_RESIDENCIA', 'DIAS_ESTADA']].groupby('GLOSA_REGION_RESIDENCIA').mean()\n",
    "comuna_vs_dias = comuna_vs_dias.sort_values(by='DIAS_ESTADA', ascending=False)\n",
    "comuna_vs_dias.plot(kind='bar', figsize=(10, 5), color='tomato')\n"
   ]
  },
  {
   "cell_type": "markdown",
   "metadata": {},
   "source": [
    "#### **Ejercicio 10** \n",
    "\n",
    "Utilizando el diagnostico principal (DIAG1), calcule los 10 diagn\u00f3sticos m\u00e1s frecuentes para egresos de tipo 1.\n",
    "* \u00bfC\u00faal es el diagn\u00f3stico m\u00e1s frecuente?\n",
    "* \u00bfC\u00faal es el diagn\u00f3stico menos frecuente?"
   ]
  },
  {
   "cell_type": "code",
   "execution_count": null,
   "metadata": {},
   "outputs": [],
   "source": [
    "# <CODE> Top 10 diagnosticos\n",
    "\n",
    "diagnosticos = egresos[egresos['CONDICION_EGRESO'] == 1]\n",
    "diagnosticos = diagnosticos['DIAG1'].value_counts().sort_values(ascending=False)\n",
    "print(diagnosticos.head(10))\n",
    "\n",
    "print(\"El egreso m\u00e1s frecuente es PARTO UNICO ESPONTANEO, PRESENTACION CEFALICA DE VERTICE\")"
   ]
  },
  {
   "cell_type": "code",
   "execution_count": null,
   "metadata": {},
   "outputs": [],
   "source": [
    "# <CODE> Diagnostico menos frecuentes\n",
    "diagnosticos.sort_values(ascending=True).head(10)\n",
    "print(\"Existen multiples diagnosticos con solo un caso\")"
   ]
  },
  {
   "cell_type": "markdown",
   "metadata": {},
   "source": [
    "#### **Ejercicio 11** \n",
    "\n",
    "Utilizando el diagnostico principal (DIAG1), calcule los 10 diagn\u00f3sticos m\u00e1s frecuentes para egresos de tipo 2.\n",
    "* \u00bfC\u00faal es el diagn\u00f3stico m\u00e1s frecuente?\n",
    "* \u00bfC\u00faal es el diagn\u00f3stico menos frecuente?\n"
   ]
  },
  {
   "cell_type": "code",
   "execution_count": null,
   "metadata": {},
   "outputs": [],
   "source": [
    "# <CODE> Top 10 diagnosticos\n",
    "diagnosticos = egresos[egresos['CONDICION_EGRESO'] == 2]\n",
    "diagnosticos = diagnosticos['DIAG1'].value_counts().sort_values(ascending=False)\n",
    "print(diagnosticos.head(10))\n",
    "\n",
    "print(\"El diagnostico m\u00e1s frecuente INSUFICIENCIA RESPIRATORIA AGUDA\")"
   ]
  },
  {
   "cell_type": "code",
   "execution_count": null,
   "metadata": {},
   "outputs": [],
   "source": [
    "# <CODE> Diagnostico menos frecuente\n",
    "diagnosticos.sort_values(ascending=True).head(10)\n",
    "\n",
    "print(\"Existen multiples diagnosticos con solo un caso\")"
   ]
  }
 ],
 "metadata": {
  "kernelspec": {
   "display_name": "diplomado",
   "language": "python",
   "name": "python3"
  },
  "language_info": {
   "codemirror_mode": {
    "name": "ipython",
    "version": 3
   },
   "file_extension": ".py",
   "mimetype": "text/x-python",
   "name": "python",
   "nbconvert_exporter": "python",
   "pygments_lexer": "ipython3",
   "version": "undefined.undefined.undefined"
  }
 },
 "nbformat": 4,
 "nbformat_minor": 2
}