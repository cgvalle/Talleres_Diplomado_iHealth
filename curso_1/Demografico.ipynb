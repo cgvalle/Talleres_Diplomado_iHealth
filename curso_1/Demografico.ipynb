{
 "cells": [
  {
   "cell_type": "markdown",
   "metadata": {},
   "source": [
    "# Actividad Práctica: Análisis Demográfico con Datos Abiertos del MINSAL\n",
    "\n",
    "Utilizaremos la base de datos de Egresos Hospitalarios del Departamento de Estadísticas e Información de Salud (DEIS) del Ministerio de Salud de Chile. El dataset contiene información sobre egresos hospitalarios en todo el país, incluyendo variables demográficas, clínicas y administrativas. El objetivo de este taller es trabajar con datos abiertos y aplicar técnicas de análisis exploratorio para comprender la información contenida en el dataset.\n",
    "\n",
    "Al finalizar este taller, los y las estudiantes serán capaces de:\n",
    "* Cargar y explorar bases de datos extensas utilizando pandas, identificando su estructura y calidad.\n",
    "* Aplicar técnicas de filtrado, agrupación y transformación de datos para generar variables e indicadores.\n",
    "* Calcular estadísticas descriptivas y proporciones a partir de variables categóricas y numéricas.\n",
    "* Visualizar información mediante gráficos para facilitar la interpretación.\n",
    "* Analizar relaciones entre variables demográficas y clínicas en un contexto de salud pública real.\n",
    "\n",
    "\n",
    "##  1. Bases de datos abiertos: MINSAL\n",
    "### 1.1. Introducción a los datos abiertos\n",
    "\n",
    "Los datos abiertos son conjuntos de datos que están disponibles para el público de forma gratuita y sin restricciones. Estos datos pueden ser utilizados, modificados y compartidos por cualquier persona, lo que fomenta la transparencia, la innovación y la colaboración en diversas áreas, incluyendo la salud pública. En este taller, utilizaremos datos abiertos del Ministerio de Salud de Chile para realizar un análisis demográfico y clínico de los egresos hospitalarios en el país. \n",
    "\n",
    "### 1.2. Egresos Hospitalarios\n",
    "\n",
    "Los egresos hospitalarios son registros de pacientes que han sido dados de alta de un hospital después de recibir atención médica. Estos datos son fundamentales para comprender la carga de enfermedades, la utilización de servicios de salud y la calidad de la atención médica en un país. El Ministerio de Salud de Chile publica regularmente datos sobre egresos hospitalarios, que incluyen información demográfica, diagnósticos, procedimientos y otros aspectos relevantes.\n",
    "\n",
    "Estos se encuentran disponibles en el sitio web del [Departamento de Estadísticas e Información de Salud](https://deis.minsal.cl/). En particular utilizaremos la base \"Egresos Hospitalarios por Comuna de Residencia (disociados) Año 2024\". \n",
    "\n",
    "Para acceder a los datos, pueden navegar a la sección de \"Datos Abiertos\" en el sitio web del MINSAL y buscar la base de datos correspondiente. Una vez que encuentren la base de datos, se descargara en formato zip.\n",
    "\n",
    "\n",
    "![](/Users/carlos/Documents/github/Diplomado_iHealth/img/base_egresos.png)\n",
    "\n",
    "\n"
   ]
  },
  {
   "cell_type": "markdown",
   "metadata": {},
   "source": [
    "## 1.3 Carga de datos\n",
    "\n",
    "Google Colab funciona en un ambiente de nube basado en linux, por lo que podemos utilizar de manera directa commandos de linux para descargar y descomprimir archivos. En este caso, utilizaremos el comando `!wget` para descargar el archivo zip y luego lo descomprimiremos utilizando el comando `!unzip`."
   ]
  },
  {
   "cell_type": "code",
   "execution_count": null,
   "metadata": {},
   "outputs": [],
   "source": [
    "!wget https://repositoriodeis.minsal.cl/DatosAbiertos/EGRESOS/EGRESOS_2024.zip \n",
    "!unzip EGRESOS_2024.zip"
   ]
  },
  {
   "cell_type": "markdown",
   "metadata": {},
   "source": [
    "Se recomienda descargar el dataset en su computador para visualizar el archivo `Diccionario BD egresos hospitalario.xlsx` y conocer la estructura de la base de datos. \n",
    "\n",
    "Las variables que se encuentran en el diccionario son las siguientes:\n",
    "\n",
    "\n",
    "<center>\n",
    "\n",
    "| Nombre   Variable                | Descripción                                                                      |\n",
    "|----------------------------------|----------------------------------------------------------------------------------|\n",
    "| PERTENENCIA_ESTABLECIMIENTO_SALU | Tipo de pertenencia (Perteneciente o   No perteneciente al SNSS)                 |\n",
    "| SEXO                             | Código del sexo   biologico del paciente                                         |\n",
    "| GRUPO_EDAD                       | Grupo de edad del   paciente al momento de su ingreso                            |\n",
    "| ETNIA                            | Se identifica o no   con una etnia                                               |\n",
    "| GLOSA_PAIS_ORIGEN                | Indica si es chileno   o extranjero                                              |\n",
    "| COMUNA_RESIDENCIA                | Código comuna de   residencia del paciente                                       |\n",
    "| GLOSA_COMUNA_RESIDENCIA          | Nombre de la comuna   de residencia                                              |\n",
    "| REGION_RESIDENCIA                | Código región de   residencia del paciente                                       |\n",
    "| GLOSA_REGION_RESIDENCIA          | Nombre de la región   de residencia                                              |\n",
    "| PREVISION                        | Código de previsión   de salud del paciente al momento del ingreso               |\n",
    "| GLOSA_PREVISION                  | Glosa previsión de   salud del paciente al momento del ingreso                   |\n",
    "| ANO_EGRESO                       | Año del egreso                                                                   |\n",
    "| DIAG1                            | Código CIE-10 del   diagnostico principal                                        |\n",
    "| DIAG2                            | Código CIE-10 de la   causa externa                                              |\n",
    "| DIAS_ESTAD                       | Días de estada total                                                             |\n",
    "| CONDICION_EGRESO                 | Código   de la condición al egreso del paciente          1=Vivo      2=Fallecido |\n",
    "\n",
    "</center>\n"
   ]
  },
  {
   "cell_type": "markdown",
   "metadata": {},
   "source": [
    "## 2. Trabajando con datos\n",
    "\n",
    "### 2.1 Carga de librerías\n",
    "\n",
    "#### **Ejercicio 1** \n",
    "\n",
    "Cargue las librerías necesarias para trabajar con el dataset en cuando a archivos csv y visualización. "
   ]
  },
  {
   "cell_type": "code",
   "execution_count": null,
   "metadata": {},
   "outputs": [],
   "source": [
    "# <CODE>\n"
   ]
  },
  {
   "cell_type": "markdown",
   "metadata": {},
   "source": [
    "#### **Ejercicio 2** \n",
    "Una vez que haya cargado las librerías, cargue el dataset `Egresos Hospitalarios por Comuna de Residencia (disociados) Año 2024` en un dataframe llamado `egresos`. HINT:  Este tipo de archivos puede utilizar distintos separadores (,, ;, |) y codificaciones de texto (encoding). Si al leer el archivo obtienes errores o caracteres extraños, investiga cuál es el separador y el encoding correcto para poder cargarlo adecuadamente. \n",
    "\n",
    "\n"
   ]
  },
  {
   "cell_type": "code",
   "execution_count": null,
   "metadata": {},
   "outputs": [],
   "source": [
    "# <CODE>\n"
   ]
  },
  {
   "cell_type": "markdown",
   "metadata": {},
   "source": [
    "#### **Ejercicio 3** \n",
    "Realize un analisis exploratorio de los datos. Identique las cantidad de filas y columnas, el nombre de las columnas, los tipos de datos y la cantidad de valores nulos."
   ]
  },
  {
   "cell_type": "code",
   "execution_count": null,
   "metadata": {},
   "outputs": [],
   "source": [
    "# <CODE> Cantidad de filas y columnas\n"
   ]
  },
  {
   "cell_type": "code",
   "execution_count": null,
   "metadata": {},
   "outputs": [],
   "source": [
    "# <CODE> Nombres de las columnas\n"
   ]
  },
  {
   "cell_type": "code",
   "execution_count": null,
   "metadata": {},
   "outputs": [],
   "source": [
    "# <CODE> TIpos de dato por columna\n"
   ]
  },
  {
   "cell_type": "code",
   "execution_count": null,
   "metadata": {},
   "outputs": [],
   "source": [
    "# <CODE> Cantidad de valores nulos\n"
   ]
  },
  {
   "cell_type": "markdown",
   "metadata": {},
   "source": [
    "#### **Ejercicio 4** \n",
    "\n",
    "Obtenga los valores únicos de las siguientes variables (HINT: use values_counts):\n",
    "- `SEXO`\n",
    "- `GRUPO_EDAD`\n",
    "- `ETNIA`\n",
    "- `CONDICION_EGRESO`\n",
    "- `GLOSA_PREVISION`\n",
    "- `DIAS_ESTAD`\n",
    "\n",
    "Responda a las siguientes preguntas:\n",
    "* ¿Cuántos valores únicos tiene cada variable?\n",
    "* ¿Es necesario realizar algún tipo de limpieza o transformación en los datos? ¿Por qué?\n"
   ]
  },
  {
   "cell_type": "code",
   "execution_count": null,
   "metadata": {},
   "outputs": [],
   "source": [
    "# <CODE> SEXO\n"
   ]
  },
  {
   "cell_type": "code",
   "execution_count": null,
   "metadata": {},
   "outputs": [],
   "source": [
    "# <CODE> GRUPO_EDAD\n"
   ]
  },
  {
   "cell_type": "code",
   "execution_count": null,
   "metadata": {},
   "outputs": [],
   "source": [
    "# <CODE> ETNIA\n"
   ]
  },
  {
   "cell_type": "code",
   "execution_count": null,
   "metadata": {},
   "outputs": [],
   "source": [
    "# <CODE> CONDICION_EGRESO\n"
   ]
  },
  {
   "cell_type": "code",
   "execution_count": null,
   "metadata": {},
   "outputs": [],
   "source": [
    "# <CODE> GLOSA_PREVISION\n"
   ]
  },
  {
   "cell_type": "code",
   "execution_count": null,
   "metadata": {},
   "outputs": [],
   "source": [
    "# <CODE> DIAS_ESTAD\n"
   ]
  },
  {
   "cell_type": "markdown",
   "metadata": {},
   "source": [
    "### 2.2 Manipulación de datos"
   ]
  },
  {
   "cell_type": "markdown",
   "metadata": {},
   "source": [
    "#### **Ejercicio 5** \n",
    "\n",
    "Debido a que la variable `SEXO` tiene valores categóricos mediante texto, es recomendable transformarla a valores numéricos. Para ello, utilice la función `replace` para reemplazar los valores y elimine los valores nulos (`*`). \n",
    "\n"
   ]
  },
  {
   "cell_type": "code",
   "execution_count": null,
   "metadata": {},
   "outputs": [],
   "source": [
    "# <CODE>\n"
   ]
  },
  {
   "cell_type": "markdown",
   "metadata": {},
   "source": [
    "#### **Ejercicio 6** \n",
    "\n",
    "Ahora que las variables de interés están correctamente estructuradas, es momento de comenzar la exploración de la información que nos proporcionan. Para ello, se generará un gráfico comparativo que muestre la distribución de la condición de egreso según el sexo de los pacientes (hombres y mujeres)."
   ]
  },
  {
   "cell_type": "code",
   "execution_count": null,
   "metadata": {},
   "outputs": [],
   "source": [
    "# <CODE>\n"
   ]
  },
  {
   "cell_type": "markdown",
   "metadata": {},
   "source": [
    "#### **Ejercicio 7** \n",
    "\n",
    "Ahora se busca evaluar la proporción de condición de egreso según el grupo etario. Para ello, genere un gráfico que muestre, para cada grupo etario, la distribución proporcional de las distintas condiciones de egreso. Responda:\n",
    "\n",
    "* ¿Cúal es el grupo etario con mayor proporción de egresos fallecidos?\n",
    "* ¿Cúal es el grupo etario con mayor proporción de egresos vivos?\n",
    "\n",
    "Asegurese que el grafico muestre el orden correcto de los grupos etarios. \n"
   ]
  },
  {
   "cell_type": "code",
   "execution_count": null,
   "metadata": {},
   "outputs": [],
   "source": [
    "# Calcular proporción de fallecidos por grupo etario\n",
    "proporcion_fallecidos = egresos.groupby('GRUPO_EDAD')['CONDICION_EGRESO'].apply(lambda x: (x == 2).mean())\n",
    "\n",
    "# ordenar columnas\n",
    "orden = ['menor a 7 días','7 A 27 DIAS', '28 DIAS A 2 MES','2 MESES A MENOS DE 1 AÑO', \n",
    "         '1 A 4 AÑOS','5 A 9 AÑOS', '10 A 14 AÑOS', '15 A 19 AÑOS','20 A 24 AÑOS', '25 A 29 AÑOS',\n",
    "        '30 A 34 AÑOS', '35 A 39 AÑOS', '40 A 44 AÑOS',\n",
    "       '45 A 49 AÑOS', '50 A 54 AÑOS', '55 A 59 AÑOS',\n",
    "       '60 A 64 AÑOS', '65 A 69 AÑOS',  '70 A 74 AÑOS',\n",
    "       '75 A 79 AÑOS', '80 A 84 AÑOS', '85 A MAS']\n",
    "\n",
    "proporcion_fallecidos = proporcion_fallecidos.reindex(orden)\n",
    "# Graficar\n",
    "proporcion_fallecidos.plot(kind='bar', figsize=(10, 5), color='tomato')\n",
    "\n",
    "plt.title('Proporción de fallecidos por grupo etario')\n",
    "plt.xlabel('Grupo etario')\n",
    "plt.ylabel('Proporción de fallecidos')\n",
    "plt.ylim(0, 0.15)\n",
    "plt.grid(axis='y', linestyle='--', alpha=0.7)\n",
    "plt.tight_layout()\n",
    "plt.show()"
   ]
  },
  {
   "cell_type": "markdown",
   "metadata": {},
   "source": [
    "#### **Ejercicio 8** \n",
    "\n",
    "De igual manera realize un gráfico que muestre la proporción de condición de egreso según la previsión de salud. Responda:\n",
    "* ¿Cúal es la previsión de salud con mayor proporción de egresos fallecidos?\n",
    "* ¿Cúal es la previsión de salud con mayor proporción de egresos vivos?\n"
   ]
  },
  {
   "cell_type": "code",
   "execution_count": null,
   "metadata": {},
   "outputs": [],
   "source": [
    "# <CODE>\n"
   ]
  },
  {
   "cell_type": "markdown",
   "metadata": {},
   "source": [
    "#### **Ejercicio 9** \n",
    "\n",
    "Ahora se busca evaluar la cantidad de días segun la región de residencia.  Para ello, genere un gráfico que muestre, para cada región, la cantidad de días promedio de estadía en el hospital. Responda:\n",
    "* ¿Cúal es la región con mayor cantidad de días promedio de estadía?\n",
    "* ¿Cúal es la región con menor cantidad de días promedio de estadía?\n",
    "* ¿Cúal es la región con mayor cantidad de egresos?\n",
    "* ¿Cúal es la región con menor cantidad de egresos?\n",
    "* ¿Existen datos nulos?\n",
    "\n"
   ]
  },
  {
   "cell_type": "code",
   "execution_count": null,
   "metadata": {},
   "outputs": [],
   "source": [
    "# <CODE>\n"
   ]
  },
  {
   "cell_type": "markdown",
   "metadata": {},
   "source": [
    "#### **Ejercicio 10** \n",
    "\n",
    "Utilizando el diagnostico principal (DIAG1), calcule los 10 diagnósticos más frecuentes para egresos de tipo 1.\n",
    "* ¿Cúal es el diagnóstico más frecuente?\n",
    "* ¿Cúal es el diagnóstico menos frecuente?"
   ]
  },
  {
   "cell_type": "code",
   "execution_count": null,
   "metadata": {},
   "outputs": [],
   "source": [
    "# <CODE> Top 10 diagnosticos\n"
   ]
  },
  {
   "cell_type": "code",
   "execution_count": null,
   "metadata": {},
   "outputs": [],
   "source": [
    "# <CODE> Diagnostico menos frecuentes\n"
   ]
  },
  {
   "cell_type": "markdown",
   "metadata": {},
   "source": [
    "#### **Ejercicio 11** \n",
    "\n",
    "Utilizando el diagnostico principal (DIAG1), calcule los 10 diagnósticos más frecuentes para egresos de tipo 2.\n",
    "* ¿Cúal es el diagnóstico más frecuente?\n",
    "* ¿Cúal es el diagnóstico menos frecuente?\n"
   ]
  },
  {
   "cell_type": "code",
   "execution_count": null,
   "metadata": {},
   "outputs": [],
   "source": [
    "# <CODE> Top 10 diagnosticos\n"
   ]
  },
  {
   "cell_type": "code",
   "execution_count": null,
   "metadata": {},
   "outputs": [],
   "source": [
    "# <CODE> Diagnostico menos frecuente\n"
   ]
  }
 ],
 "metadata": {
  "kernelspec": {
   "display_name": "diplomado",
   "language": "python",
   "name": "python3"
  },
  "language_info": {
   "codemirror_mode": {
    "name": "ipython",
    "version": 3
   },
   "file_extension": ".py",
   "mimetype": "text/x-python",
   "name": "python",
   "nbconvert_exporter": "python",
   "pygments_lexer": "ipython3",
   "version": "undefined.undefined.undefined"
  }
 },
 "nbformat": 4,
 "nbformat_minor": 2
}
